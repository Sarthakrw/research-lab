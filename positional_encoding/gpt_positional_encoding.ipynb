{
  "nbformat": 4,
  "nbformat_minor": 0,
  "metadata": {
    "colab": {
      "provenance": [],
      "gpuType": "T4",
      "collapsed_sections": [
        "hLS5-nMxXwNM",
        "sXT33lmKJHV_",
        "bOS4I184YRGI",
        "CRW-fmtlmcKq",
        "j002fxxd5o3q"
      ]
    },
    "kernelspec": {
      "name": "python3",
      "display_name": "Python 3"
    },
    "language_info": {
      "name": "python"
    },
    "accelerator": "GPU"
  },
  "cells": [
    {
      "cell_type": "markdown",
      "source": [
        "<a target=\"_blank\" href=\"https://colab.research.google.com/github/Sarthakrw/research-lab/blob/main/positional_encoding/gpt_positional_encoding.ipynb\">\n",
        "  <img src=\"https://colab.research.google.com/assets/colab-badge.svg\" alt=\"Open In Colab\"/>\n",
        "</a>"
      ],
      "metadata": {
        "id": "T1N_-8ip6IO7"
      }
    },
    {
      "cell_type": "code",
      "execution_count": null,
      "metadata": {
        "id": "wJcyt1LCSAtW",
        "colab": {
          "base_uri": "https://localhost:8080/"
        },
        "outputId": "d906e131-d197-4a1c-9c19-cf342983796c"
      },
      "outputs": [
        {
          "output_type": "stream",
          "name": "stdout",
          "text": [
            "\u001b[?25l   \u001b[90m━━━━━━━━━━━━━━━━━━━━━━━━━━━━━━━━━━━━━━━━\u001b[0m \u001b[32m0.0/1.2 MB\u001b[0m \u001b[31m?\u001b[0m eta \u001b[36m-:--:--\u001b[0m\r\u001b[2K   \u001b[91m━━━━━━━━━━━━\u001b[0m\u001b[90m╺\u001b[0m\u001b[90m━━━━━━━━━━━━━━━━━━━━━━━━━━━\u001b[0m \u001b[32m0.4/1.2 MB\u001b[0m \u001b[31m11.3 MB/s\u001b[0m eta \u001b[36m0:00:01\u001b[0m\r\u001b[2K   \u001b[90m━━━━━━━━━━━━━━━━━━━━━━━━━━━━━━━━━━━━━━━━\u001b[0m \u001b[32m1.2/1.2 MB\u001b[0m \u001b[31m19.0 MB/s\u001b[0m eta \u001b[36m0:00:00\u001b[0m\n",
            "\u001b[?25h"
          ]
        }
      ],
      "source": [
        "!pip -qqq install tiktoken"
      ]
    },
    {
      "cell_type": "code",
      "source": [
        "import matplotlib.pyplot as plt"
      ],
      "metadata": {
        "id": "u8DZMVCFfFFO"
      },
      "execution_count": null,
      "outputs": []
    },
    {
      "cell_type": "markdown",
      "source": [
        "### Load Data"
      ],
      "metadata": {
        "id": "RVPnPZin0A-w"
      }
    },
    {
      "cell_type": "code",
      "source": [
        "import requests\n",
        "\n",
        "url = \"https://raw.githubusercontent.com/karpathy/ng-video-lecture/master/input.txt\"\n",
        "\n",
        "response = requests.get(url)\n",
        "\n",
        "if response.status_code == 200:\n",
        "    dataset = response.text"
      ],
      "metadata": {
        "id": "3OYlaET9y7Oe"
      },
      "execution_count": null,
      "outputs": []
    },
    {
      "cell_type": "code",
      "source": [
        "print(dataset[:100])"
      ],
      "metadata": {
        "colab": {
          "base_uri": "https://localhost:8080/"
        },
        "id": "pA-6BtVzVAt4",
        "outputId": "9ea5fe4e-35e0-4b58-89fe-260ebc54bfe0"
      },
      "execution_count": null,
      "outputs": [
        {
          "output_type": "stream",
          "name": "stdout",
          "text": [
            "First Citizen:\n",
            "Before we proceed any further, hear me speak.\n",
            "\n",
            "All:\n",
            "Speak, speak.\n",
            "\n",
            "First Citizen:\n",
            "You\n"
          ]
        }
      ]
    },
    {
      "cell_type": "code",
      "source": [
        "import tiktoken\n",
        "\n",
        "enc = tiktoken.encoding_for_model(\"gpt2\")"
      ],
      "metadata": {
        "id": "tF1gdPsyVBUR"
      },
      "execution_count": null,
      "outputs": []
    },
    {
      "cell_type": "code",
      "source": [
        "tokens = enc.encode(dataset)\n",
        "tokens[:10]"
      ],
      "metadata": {
        "colab": {
          "base_uri": "https://localhost:8080/"
        },
        "id": "39oAkDicVwws",
        "outputId": "1ed8b4b9-37ca-4249-fe21-c6d1ad3d21fd"
      },
      "execution_count": null,
      "outputs": [
        {
          "output_type": "execute_result",
          "data": {
            "text/plain": [
              "[5962, 22307, 25, 198, 8421, 356, 5120, 597, 2252, 11]"
            ]
          },
          "metadata": {},
          "execution_count": 7
        }
      ]
    },
    {
      "cell_type": "code",
      "source": [
        "vocab_s = enc.n_vocab\n",
        "vocab_s"
      ],
      "metadata": {
        "colab": {
          "base_uri": "https://localhost:8080/"
        },
        "id": "4FbgY33Qe8tu",
        "outputId": "a4b193a2-9c23-4798-dcc0-152f79ebbb27"
      },
      "execution_count": null,
      "outputs": [
        {
          "output_type": "execute_result",
          "data": {
            "text/plain": [
              "50257"
            ]
          },
          "metadata": {},
          "execution_count": 8
        }
      ]
    },
    {
      "cell_type": "code",
      "source": [
        "n = int((0.9*len(tokens)))\n",
        "print(n)\n",
        "train_data = tokens[:n]\n",
        "val_data = tokens[n:]"
      ],
      "metadata": {
        "colab": {
          "base_uri": "https://localhost:8080/"
        },
        "id": "JCWfh-PSyucR",
        "outputId": "3446a78f-82fd-4e84-a5b6-d36b021e85a2"
      },
      "execution_count": null,
      "outputs": [
        {
          "output_type": "stream",
          "name": "stdout",
          "text": [
            "304222\n"
          ]
        }
      ]
    },
    {
      "cell_type": "markdown",
      "source": [
        "### Data Loader"
      ],
      "metadata": {
        "id": "Ya-mMmfU0JyI"
      }
    },
    {
      "cell_type": "code",
      "source": [
        "import torch\n",
        "import torch.nn as nn\n",
        "import torch.nn.functional as F"
      ],
      "metadata": {
        "id": "RNgUbwoqZvX1"
      },
      "execution_count": null,
      "outputs": []
    },
    {
      "cell_type": "code",
      "source": [
        "from dataclasses import dataclass\n",
        "\n",
        "@dataclass\n",
        "class GPTConfig:\n",
        "    vocab_size: int = vocab_s\n",
        "    n_embd: int = 128\n",
        "    block_size: int = 128\n",
        "    batch_size: int = 16\n",
        "    n_layer: int = 8\n",
        "    n_head: int = 8\n",
        "    dropout: float = 0.2\n",
        "\n",
        "config = GPTConfig()"
      ],
      "metadata": {
        "collapsed": true,
        "id": "g_3M5-S_WCGw"
      },
      "execution_count": null,
      "outputs": []
    },
    {
      "cell_type": "code",
      "source": [
        "device = 'cuda' if torch.cuda.is_available() else 'cpu'"
      ],
      "metadata": {
        "id": "lQzvTml2Xutq"
      },
      "execution_count": null,
      "outputs": []
    },
    {
      "cell_type": "code",
      "source": [
        "torch.manual_seed(1337)\n",
        "\n",
        "def get_batch(split):\n",
        "\n",
        "    data = train_data if split=='train' else val_data\n",
        "    idx = torch.randint(0, len(data) - config.block_size, (config.batch_size,))\n",
        "    x = torch.stack([torch.tensor(data[i:i+config.block_size]) for i in idx])\n",
        "    y = torch.stack([torch.tensor(data[i+1:i+config.block_size+1]) for i in idx])\n",
        "    return x.to(device), y.to(device)\n",
        "\n",
        "x_train, y_train = get_batch('train')\n",
        "\n",
        "\"\"\"\n",
        "print(x_train)\n",
        "print(y_train)\n",
        "print(\"----\")\n",
        "\n",
        "for b in range(config.batch_size):\n",
        "    for t in range(config.block_size):\n",
        "        context = x_train[b, :t+1]\n",
        "        target = y_train[b, t]\n",
        "        print(\"When input is: \", context, \"Target is: \", target)\n",
        "    print(\"----\")\n",
        "\"\"\""
      ],
      "metadata": {
        "colab": {
          "base_uri": "https://localhost:8080/",
          "height": 53
        },
        "id": "f54Hai6e0LWv",
        "outputId": "c9f5f9df-0139-45ad-fa36-11cb50c22fa9"
      },
      "execution_count": null,
      "outputs": [
        {
          "output_type": "execute_result",
          "data": {
            "text/plain": [
              "'\\nprint(x_train)\\nprint(y_train)\\nprint(\"----\")\\n\\nfor b in range(config.batch_size):\\n    for t in range(config.block_size):\\n        context = x_train[b, :t+1]\\n        target = y_train[b, t]\\n        print(\"When input is: \", context, \"Target is: \", target)\\n    print(\"----\")\\n'"
            ],
            "application/vnd.google.colaboratory.intrinsic+json": {
              "type": "string"
            }
          },
          "metadata": {},
          "execution_count": 13
        }
      ]
    },
    {
      "cell_type": "markdown",
      "source": [
        "## Estimate Loss"
      ],
      "metadata": {
        "id": "6gKX-4LqKAEJ"
      }
    },
    {
      "cell_type": "code",
      "source": [
        "@torch.no_grad()\n",
        "def estimate_loss(model):\n",
        "    out = {}\n",
        "    model.eval()\n",
        "    for split in ['train', 'val']:\n",
        "        losses = torch.zeros(eval_iter)\n",
        "        for k in range(eval_iter):\n",
        "            X, Y = get_batch(split)\n",
        "            logits, loss = model(X, Y)\n",
        "            losses[k] = loss.item()\n",
        "\n",
        "        out[split] = losses.mean()\n",
        "\n",
        "    model.train()\n",
        "    return out"
      ],
      "metadata": {
        "id": "tkV6yp-kKK-u"
      },
      "execution_count": null,
      "outputs": []
    },
    {
      "cell_type": "markdown",
      "source": [
        "## Baseline GPT - Absolute Positional Embeddings"
      ],
      "metadata": {
        "id": "hLS5-nMxXwNM"
      }
    },
    {
      "cell_type": "code",
      "source": [
        "class Head(nn.Module):\n",
        "\n",
        "    def __init__(self, config):\n",
        "        super().__init__()\n",
        "\n",
        "        self.query = nn.Linear(config.n_embd, config.n_embd // config.n_head, bias=False) # (n_embd, head_size)\n",
        "        self.key = nn.Linear(config.n_embd, config.n_embd // config.n_head, bias=False)   # (n_embd, head_size)\n",
        "        self.value = nn.Linear(config.n_embd, config.n_embd // config.n_head, bias=False) # (n_embd, head_size)\n",
        "\n",
        "        self.register_buffer('tril', torch.tril(torch.ones(config.block_size, config.block_size)))\n",
        "\n",
        "        self.dropout = nn.Dropout(config.dropout)\n",
        "\n",
        "\n",
        "    def forward(self, x):\n",
        "        B, T, C = x.shape\n",
        "        q = self.query(x) # (B, T, head_size)\n",
        "        k = self.key(x)   # (B, T, head_size)\n",
        "        v = self.value(x)   # (B, T, head_size)\n",
        "\n",
        "        # scaled dot product attention #\n",
        "\n",
        "        wei = q @ k.transpose(-2, -1) / (config.n_embd // config.n_head)**0.5  # (B, T, head_size) @ (B, head_size, T) ---> (B, T, T)\n",
        "\n",
        "        # masking future tokens due to \"auto-regressive\" nature\n",
        "        wei = wei.masked_fill(self.tril[:T,:T]==0, float('-inf')) # (B, T, T)\n",
        "\n",
        "        wei = F.softmax(wei, dim=-1)                  # (B, T, T)\n",
        "\n",
        "        wei = self.dropout(wei)\n",
        "\n",
        "        out = wei @ v  # (B, T, T) @ (B, T, head_size) ---> (B, T, head_size)\n",
        "        return out\n",
        "\n",
        "\n",
        "class MultiHeadAttention(nn.Module):\n",
        "\n",
        "    def __init__(self, config):\n",
        "        super().__init__()\n",
        "\n",
        "        self.heads = nn.ModuleList([Head(config) for _ in range(config.n_head)])\n",
        "\n",
        "        self.dropout = nn.Dropout(config.dropout)\n",
        "\n",
        "    def forward(self, x):\n",
        "        # Run each head in parallel and concatenate along the channel dimension\n",
        "        out = torch.cat([h(x) for h in self.heads], dim=-1)\n",
        "\n",
        "        out = self.dropout(out)\n",
        "\n",
        "        return out\n",
        "\n",
        "\n",
        "class MLP(nn.Module):\n",
        "\n",
        "    def __init__(self, config):\n",
        "        super().__init__()\n",
        "\n",
        "        self.c_fc = nn.Linear(config.n_embd, 4*config.n_embd)\n",
        "        self.gelu = nn.GELU(approximate='tanh')\n",
        "        self.c_proj = nn.Linear(4*config.n_embd, config.n_embd)\n",
        "\n",
        "        self.dropout = nn.Dropout(config.dropout)\n",
        "\n",
        "    def forward(self, x):\n",
        "        x = self.c_fc(x)\n",
        "        x = self.gelu(x)\n",
        "        x = self.c_proj(x)\n",
        "\n",
        "        x = self.dropout(x)\n",
        "\n",
        "        return x\n",
        "\n",
        "\n",
        "class Block(nn.Module):\n",
        "\n",
        "    def __init__(self, config):\n",
        "        super().__init__()\n",
        "\n",
        "        self.ln_1 = nn.LayerNorm(config.n_embd)\n",
        "        self.attn = MultiHeadAttention(config)\n",
        "        self.ln_2 = nn.LayerNorm(config.n_embd)\n",
        "        self.mlp = MLP(config)\n",
        "\n",
        "    def forward(self, x):\n",
        "        x = x + self.attn(self.ln_1(x))\n",
        "        x = x + self.mlp(self.ln_2(x))\n",
        "        return x\n",
        "\n",
        "\n",
        "class GPT(nn.Module):\n",
        "\n",
        "    def __init__(self, config):\n",
        "        super().__init__()\n",
        "\n",
        "        self.transformer = nn.ModuleDict(dict(\n",
        "            wte = nn.Embedding(config.vocab_size, config.n_embd),\n",
        "            wpe = nn.Embedding(config.block_size, config.n_embd),\n",
        "            h = nn.ModuleList([Block(config) for _ in range(config.n_layer)]),\n",
        "            ln_f = nn.LayerNorm(config.n_embd)\n",
        "        ))\n",
        "        self.lm_head = nn.Linear(config.n_embd, config.vocab_size, bias=False)\n",
        "\n",
        "\n",
        "    def forward(self, idx, targets=None):\n",
        "        B, T = idx.shape\n",
        "\n",
        "        tok_emb = self.transformer.wte(idx)             # (B, T, n_embd)\n",
        "        pos_emb = self.transformer.wpe(torch.arange(T, device=idx.device)) # (T, n_embd)\n",
        "\n",
        "        x = tok_emb + pos_emb # (B, T, n_embd)\n",
        "\n",
        "        for block in self.transformer.h:\n",
        "            x = block(x) # (B, T, n_embd)\n",
        "\n",
        "        x = self.transformer.ln_f(x) # (B, T, n_embd)\n",
        "\n",
        "        if targets is not None:\n",
        "            logits = self.lm_head(x)  # (B, T, vocab_size)\n",
        "            loss = F.cross_entropy(logits.view(B*T, config.vocab_size), targets.view(B*T))\n",
        "        else:\n",
        "            logits = self.lm_head(x[:, [-1], :]) # (B, 1, vocab_size)\n",
        "            loss = None\n",
        "        return logits, loss\n",
        "\n",
        "    @torch.no_grad()\n",
        "    def generate(self, sequence, max_new_tokens):\n",
        "        enc = tiktoken.encoding_for_model(\"gpt2\")\n",
        "        idx = torch.tensor(enc.encode(sequence)).unsqueeze(0).to(device) # (B, T)\n",
        "\n",
        "        B, T = idx.shape\n",
        "\n",
        "        out = torch.empty((B, 0), dtype=idx.dtype, device=device)\n",
        "\n",
        "        for _ in range(max_new_tokens):\n",
        "            # crop input to block_size if required\n",
        "            idx = idx if idx.size(1) <= config.block_size else idx[:, -config.block_size:]\n",
        "            logits, _ = self(idx) # (B, vocab_size)\n",
        "            probs = F.softmax(logits.squeeze(1), dim=-1) # (B, vocab_size)\n",
        "            idx_next = torch.multinomial(probs, num_samples=1) # (B, 1)\n",
        "            idx = torch.cat((idx, idx_next), dim=1) # (B, T+1)\n",
        "\n",
        "            out = torch.cat((out, idx_next), dim=1)\n",
        "        return out"
      ],
      "metadata": {
        "id": "Nrp-93_9X9hF"
      },
      "execution_count": null,
      "outputs": []
    },
    {
      "cell_type": "markdown",
      "source": [
        "## NoPE"
      ],
      "metadata": {
        "id": "sXT33lmKJHV_"
      }
    },
    {
      "cell_type": "code",
      "source": [
        "class GPT_NoPE(nn.Module):\n",
        "\n",
        "    def __init__(self, config):\n",
        "        super().__init__()\n",
        "\n",
        "        self.transformer = nn.ModuleDict(dict(\n",
        "            wte = nn.Embedding(config.vocab_size, config.n_embd),\n",
        "            wpe = nn.Embedding(config.block_size, config.n_embd),\n",
        "            h = nn.ModuleList([Block(config) for _ in range(config.n_layer)]),\n",
        "            ln_f = nn.LayerNorm(config.n_embd)\n",
        "        ))\n",
        "        self.lm_head = nn.Linear(config.n_embd, config.vocab_size, bias=False)\n",
        "\n",
        "\n",
        "    def forward(self, idx, targets=None):\n",
        "        B, T = idx.shape\n",
        "\n",
        "        tok_emb = self.transformer.wte(idx)             # (B, T, n_embd)\n",
        "        #pos_emb = self.transformer.wpe(torch.arange(T, device=idx.device)) # (T, n_embd)\n",
        "\n",
        "        x = tok_emb #+ pos_emb # (B, T, n_embd)\n",
        "\n",
        "        for block in self.transformer.h:\n",
        "            x = block(x) # (B, T, n_embd)\n",
        "\n",
        "        x = self.transformer.ln_f(x) # (B, T, n_embd)\n",
        "\n",
        "        if targets is not None:\n",
        "            logits = self.lm_head(x)  # (B, T, vocab_size)\n",
        "            loss = F.cross_entropy(logits.view(B*T, config.vocab_size), targets.view(B*T))\n",
        "        else:\n",
        "            logits = self.lm_head(x[:, [-1], :]) # (B, 1, vocab_size)\n",
        "            loss = None\n",
        "        return logits, loss\n",
        "\n",
        "    @torch.no_grad()\n",
        "    def generate(self, sequence, max_new_tokens):\n",
        "        enc = tiktoken.encoding_for_model(\"gpt2\")\n",
        "        idx = torch.tensor(enc.encode(sequence)).unsqueeze(0).to(device) # (B, T)\n",
        "\n",
        "        B, T = idx.shape\n",
        "\n",
        "        out = torch.empty((B, 0), dtype=idx.dtype, device=device)\n",
        "\n",
        "        for _ in range(max_new_tokens):\n",
        "            # crop input to block_size if required\n",
        "            idx = idx if idx.size(1) <= config.block_size else idx[:, -config.block_size:]\n",
        "            logits, _ = self(idx) # (B, vocab_size)\n",
        "            probs = F.softmax(logits.squeeze(1), dim=-1) # (B, vocab_size)\n",
        "            idx_next = torch.multinomial(probs, num_samples=1) # (B, 1)\n",
        "            idx = torch.cat((idx, idx_next), dim=1) # (B, T+1)\n",
        "\n",
        "            out = torch.cat((out, idx_next), dim=1)\n",
        "        return out"
      ],
      "metadata": {
        "id": "ul6KBmQSfMJy"
      },
      "execution_count": null,
      "outputs": []
    },
    {
      "cell_type": "markdown",
      "source": [
        "## RoPE"
      ],
      "metadata": {
        "id": "bOS4I184YRGI"
      }
    },
    {
      "cell_type": "code",
      "source": [
        "def apply_rope(q, k):\n",
        "    B, T, dim = q.shape\n",
        "    device = q.device\n",
        "\n",
        "    # Calculate rotation angles for every other dimension\n",
        "    theta = 1.0 / (10000 ** (torch.arange(0, dim, 2, device=device).float() / dim))\n",
        "\n",
        "    # Position indices\n",
        "    positions = torch.arange(T, device=device).float()\n",
        "\n",
        "    # Compute angles for each position and pair of dimensions\n",
        "    idx_theta = torch.einsum('t,d->td', positions, theta)  # (T, dim//2)\n",
        "    cos = torch.cos(idx_theta)  # (T, dim//2)\n",
        "    sin = torch.sin(idx_theta)  # (T, dim//2)\n",
        "\n",
        "    # Reshape for broadcasting: remove extra singleton dimension\n",
        "    cos = cos.view(1, T, dim//2)  # (1, T, dim//2)\n",
        "    sin = sin.view(1, T, dim//2)  # (1, T, dim//2)\n",
        "\n",
        "    # Split last dimension into two parts\n",
        "    q_rot = q.view(B, T, dim//2, 2)\n",
        "    q_rot = torch.stack([\n",
        "        q_rot[..., 0] * cos - q_rot[..., 1] * sin,\n",
        "        q_rot[..., 1] * cos + q_rot[..., 0] * sin\n",
        "    ], dim=-1).flatten(2)  # (B, T, dim)\n",
        "\n",
        "    k_rot = k.view(B, T, dim//2, 2)\n",
        "    k_rot = torch.stack([\n",
        "        k_rot[..., 0] * cos - k_rot[..., 1] * sin,\n",
        "        k_rot[..., 1] * cos + k_rot[..., 0] * sin\n",
        "    ], dim=-1).flatten(2)  # (B, T, dim)\n",
        "\n",
        "    return q_rot, k_rot\n",
        "\n",
        "\n",
        "class Head_RoPE(nn.Module):\n",
        "    def __init__(self, config):\n",
        "        super().__init__()\n",
        "        self.head_size = config.n_embd // config.n_head\n",
        "\n",
        "        self.query = nn.Linear(config.n_embd, self.head_size, bias=False)\n",
        "        self.key   = nn.Linear(config.n_embd, self.head_size, bias=False)\n",
        "        self.value = nn.Linear(config.n_embd, self.head_size, bias=False)\n",
        "\n",
        "        self.register_buffer('tril', torch.tril(torch.ones(config.block_size, config.block_size)))\n",
        "\n",
        "        self.dropout = nn.Dropout(config.dropout)\n",
        "\n",
        "    def forward(self, x):\n",
        "        B, T, C = x.shape\n",
        "        q = self.query(x)  # (B, T, head_size)\n",
        "        k = self.key(x)    # (B, T, head_size)\n",
        "        v = self.value(x)  # (B, T, head_size)\n",
        "\n",
        "        # Apply RoPE to query and key\n",
        "        q_rot, k_rot = apply_rope(q, k)\n",
        "\n",
        "        # Use rotated queries and keys to compute scaled dot-product attention\n",
        "        scale = self.head_size ** 0.5\n",
        "        wei = q_rot @ k_rot.transpose(-2, -1) / scale  # (B, T, T)\n",
        "        wei = wei.masked_fill(self.tril[:T, :T] == 0, float('-inf'))\n",
        "        wei = F.softmax(wei, dim=-1)\n",
        "\n",
        "        wei = self.dropout(wei)\n",
        "\n",
        "        out = wei @ v  # (B, T, head_size)\n",
        "        return out\n",
        "\n",
        "\n",
        "class MultiHeadAttention_RoPE(nn.Module):\n",
        "\n",
        "    def __init__(self, config):\n",
        "        super().__init__()\n",
        "\n",
        "        self.heads = nn.ModuleList([Head_RoPE(config) for _ in range(config.n_head)])\n",
        "\n",
        "        self.dropout = nn.Dropout(config.dropout)\n",
        "\n",
        "    def forward(self, x):\n",
        "        # Run each head in parallel and concatenate along the channel dimension\n",
        "        out = torch.cat([h(x) for h in self.heads], dim=-1)\n",
        "        out = self.dropout(out)\n",
        "        return out\n",
        "\n",
        "\n",
        "class Block_RoPE(nn.Module):\n",
        "\n",
        "    def __init__(self, config):\n",
        "        super().__init__()\n",
        "\n",
        "        self.ln_1 = nn.LayerNorm(config.n_embd)\n",
        "        self.attn = MultiHeadAttention_RoPE(config)\n",
        "        self.ln_2 = nn.LayerNorm(config.n_embd)\n",
        "        self.mlp = MLP(config)\n",
        "\n",
        "    def forward(self, x):\n",
        "        x = x + self.attn(self.ln_1(x))\n",
        "        x = x + self.mlp(self.ln_2(x))\n",
        "        return x\n",
        "\n",
        "\n",
        "class GPT_RoPE(nn.Module):\n",
        "\n",
        "    def __init__(self, config):\n",
        "        super().__init__()\n",
        "\n",
        "        self.transformer = nn.ModuleDict(dict(\n",
        "            wte = nn.Embedding(config.vocab_size, config.n_embd),\n",
        "            # removed wpe\n",
        "            h = nn.ModuleList([Block_RoPE(config) for _ in range(config.n_layer)]),\n",
        "            ln_f = nn.LayerNorm(config.n_embd)\n",
        "        ))\n",
        "        self.lm_head = nn.Linear(config.n_embd, config.vocab_size, bias=False)\n",
        "\n",
        "\n",
        "    def forward(self, idx, targets=None):\n",
        "        B, T = idx.shape\n",
        "\n",
        "        tok_emb = self.transformer.wte(idx)             # (B, T, n_embd)\n",
        "\n",
        "        x = tok_emb # removed pos_emb\n",
        "\n",
        "        for block in self.transformer.h:\n",
        "            x = block(x) # (B, T, n_embd)\n",
        "\n",
        "        x = self.transformer.ln_f(x) # (B, T, n_embd)\n",
        "\n",
        "        if targets is not None:\n",
        "            logits = self.lm_head(x)  # (B, T, vocab_size)\n",
        "            loss = F.cross_entropy(logits.view(B*T, config.vocab_size), targets.view(B*T))\n",
        "        else:\n",
        "            logits = self.lm_head(x[:, [-1], :]) # (B, 1, vocab_size)\n",
        "            loss = None\n",
        "        return logits, loss\n",
        "\n",
        "    @torch.no_grad()\n",
        "    def generate(self, sequence, max_new_tokens):\n",
        "        enc = tiktoken.encoding_for_model(\"gpt2\")\n",
        "        idx = torch.tensor(enc.encode(sequence)).unsqueeze(0).to(device) # (B, T)\n",
        "\n",
        "        B, T = idx.shape\n",
        "\n",
        "        out = torch.empty((B, 0), dtype=idx.dtype, device=device)\n",
        "\n",
        "        for _ in range(max_new_tokens):\n",
        "            # crop input to block_size if required\n",
        "            idx = idx if idx.size(1) <= config.block_size else idx[:, -config.block_size:]\n",
        "            logits, _ = self(idx) # (B, vocab_size)\n",
        "            probs = F.softmax(logits.squeeze(1), dim=-1) # (B, vocab_size)\n",
        "            idx_next = torch.multinomial(probs, num_samples=1) # (B, 1)\n",
        "            idx = torch.cat((idx, idx_next), dim=1) # (B, T+1)\n",
        "\n",
        "            out = torch.cat((out, idx_next), dim=1)\n",
        "        return out"
      ],
      "metadata": {
        "id": "pjmZ-Ub5YTk7"
      },
      "execution_count": null,
      "outputs": []
    },
    {
      "cell_type": "markdown",
      "source": [
        "## QK Norm"
      ],
      "metadata": {
        "id": "CRW-fmtlmcKq"
      }
    },
    {
      "cell_type": "code",
      "source": [
        "class Head_QK(nn.Module):\n",
        "    def __init__(self, config):\n",
        "        super().__init__()\n",
        "        self.head_size = config.n_embd // config.n_head\n",
        "\n",
        "        self.query = nn.Linear(config.n_embd, self.head_size, bias=False)\n",
        "        self.key   = nn.Linear(config.n_embd, self.head_size, bias=False)\n",
        "        self.value = nn.Linear(config.n_embd, self.head_size, bias=False)\n",
        "\n",
        "        # QK normalization layers\n",
        "        self.q_norm = nn.LayerNorm(self.head_size)\n",
        "        self.k_norm = nn.LayerNorm(self.head_size)\n",
        "\n",
        "        self.register_buffer('tril', torch.tril(torch.ones(config.block_size, config.block_size)))\n",
        "\n",
        "        self.dropout = nn.Dropout(config.dropout)\n",
        "\n",
        "    def forward(self, x):\n",
        "        B, T, C = x.shape\n",
        "        q = self.query(x)  # (B, T, head_size)\n",
        "        k = self.key(x)    # (B, T, head_size)\n",
        "        v = self.value(x)  # (B, T, head_size)\n",
        "\n",
        "        # Apply QK normalization before RoPE\n",
        "        q = self.q_norm(q)\n",
        "        k = self.k_norm(k)\n",
        "\n",
        "        # Apply RoPE to query and key\n",
        "        q_rot, k_rot = apply_rope(q, k)\n",
        "\n",
        "        # Use rotated queries and keys to compute scaled dot-product attention\n",
        "        scale = self.head_size ** 0.5\n",
        "        wei = q_rot @ k_rot.transpose(-2, -1) / scale  # (B, T, T)\n",
        "        wei = wei.masked_fill(self.tril[:T, :T] == 0, float('-inf'))\n",
        "        wei = F.softmax(wei, dim=-1)\n",
        "\n",
        "        wei = self.dropout(wei)\n",
        "\n",
        "        out = wei @ v  # (B, T, head_size)\n",
        "        return out\n",
        "\n",
        "\n",
        "class MultiHeadAttention_QK(nn.Module):\n",
        "\n",
        "    def __init__(self, config):\n",
        "        super().__init__()\n",
        "\n",
        "        self.heads = nn.ModuleList([Head_QK(config) for _ in range(config.n_head)])\n",
        "\n",
        "        self.dropout = nn.Dropout(config.dropout)\n",
        "\n",
        "    def forward(self, x):\n",
        "        # Run each head in parallel and concatenate along the channel dimension\n",
        "        out = torch.cat([h(x) for h in self.heads], dim=-1)\n",
        "        out = self.dropout(out)\n",
        "        return out\n",
        "\n",
        "\n",
        "class Block_QK(nn.Module):\n",
        "\n",
        "    def __init__(self, config):\n",
        "        super().__init__()\n",
        "\n",
        "        self.ln_1 = nn.LayerNorm(config.n_embd)\n",
        "        self.attn = MultiHeadAttention_QK(config)\n",
        "        self.ln_2 = nn.LayerNorm(config.n_embd)\n",
        "        self.mlp = MLP(config)\n",
        "\n",
        "    def forward(self, x):\n",
        "        x = x + self.attn(self.ln_1(x))\n",
        "        x = x + self.mlp(self.ln_2(x))\n",
        "        return x\n",
        "\n",
        "\n",
        "class GPT_QK(nn.Module):\n",
        "\n",
        "    def __init__(self, config):\n",
        "        super().__init__()\n",
        "\n",
        "        self.transformer = nn.ModuleDict(dict(\n",
        "            wte = nn.Embedding(config.vocab_size, config.n_embd),\n",
        "            # removed wpe\n",
        "            h = nn.ModuleList([Block_QK(config) for _ in range(config.n_layer)]),\n",
        "            ln_f = nn.LayerNorm(config.n_embd)\n",
        "        ))\n",
        "        self.lm_head = nn.Linear(config.n_embd, config.vocab_size, bias=False)\n",
        "\n",
        "\n",
        "    def forward(self, idx, targets=None):\n",
        "        B, T = idx.shape\n",
        "\n",
        "        tok_emb = self.transformer.wte(idx)             # (B, T, n_embd)\n",
        "\n",
        "        x = tok_emb # removed pos_emb\n",
        "\n",
        "        for block in self.transformer.h:\n",
        "            x = block(x) # (B, T, n_embd)\n",
        "\n",
        "        x = self.transformer.ln_f(x) # (B, T, n_embd)\n",
        "\n",
        "        if targets is not None:\n",
        "            logits = self.lm_head(x)  # (B, T, vocab_size)\n",
        "            loss = F.cross_entropy(logits.view(B*T, config.vocab_size), targets.view(B*T))\n",
        "        else:\n",
        "            logits = self.lm_head(x[:, [-1], :]) # (B, 1, vocab_size)\n",
        "            loss = None\n",
        "        return logits, loss\n",
        "\n",
        "    @torch.no_grad()\n",
        "    def generate(self, sequence, max_new_tokens):\n",
        "        enc = tiktoken.encoding_for_model(\"gpt2\")\n",
        "        idx = torch.tensor(enc.encode(sequence)).unsqueeze(0).to(device) # (B, T)\n",
        "\n",
        "        B, T = idx.shape\n",
        "\n",
        "        out = torch.empty((B, 0), dtype=idx.dtype, device=device)\n",
        "\n",
        "        for _ in range(max_new_tokens):\n",
        "            # crop input to block_size if required\n",
        "            idx = idx if idx.size(1) <= config.block_size else idx[:, -config.block_size:]\n",
        "            logits, _ = self(idx) # (B, vocab_size)\n",
        "            probs = F.softmax(logits.squeeze(1), dim=-1) # (B, vocab_size)\n",
        "            idx_next = torch.multinomial(probs, num_samples=1) # (B, 1)\n",
        "            idx = torch.cat((idx, idx_next), dim=1) # (B, T+1)\n",
        "\n",
        "            out = torch.cat((out, idx_next), dim=1)\n",
        "        return out"
      ],
      "metadata": {
        "id": "QBS2uuscmedW"
      },
      "execution_count": null,
      "outputs": []
    },
    {
      "cell_type": "markdown",
      "source": [
        "## RNoPE - Hybrid Strategy"
      ],
      "metadata": {
        "id": "j002fxxd5o3q"
      }
    },
    {
      "cell_type": "code",
      "source": [
        "class Head_RNoPE(nn.Module):\n",
        "    def __init__(self, config, apply_rope=True):\n",
        "        super().__init__()\n",
        "        self.head_size = config.n_embd // config.n_head\n",
        "        self.apply_rope = apply_rope\n",
        "\n",
        "        self.query = nn.Linear(config.n_embd, self.head_size, bias=False)\n",
        "        self.key   = nn.Linear(config.n_embd, self.head_size, bias=False)\n",
        "        self.value = nn.Linear(config.n_embd, self.head_size, bias=False)\n",
        "\n",
        "        self.register_buffer('tril', torch.tril(torch.ones(config.block_size, config.block_size)))\n",
        "\n",
        "        self.dropout = nn.Dropout(config.dropout)\n",
        "\n",
        "    def forward(self, x):\n",
        "        B, T, C = x.shape\n",
        "        q = self.query(x)  # (B, T, head_size)\n",
        "        k = self.key(x)    # (B, T, head_size)\n",
        "        v = self.value(x)  # (B, T, head_size)\n",
        "\n",
        "        # Conditionally apply RoPE if the flag is set.\n",
        "        if self.apply_rope:\n",
        "            q_rot, k_rot = apply_rope(q, k)\n",
        "        else:\n",
        "            q_rot, k_rot = q, k\n",
        "\n",
        "        scale = self.head_size ** 0.5\n",
        "        wei = q_rot @ k_rot.transpose(-2, -1) / scale  # (B, T, T)\n",
        "        wei = wei.masked_fill(self.tril[:T, :T] == 0, float('-inf'))\n",
        "        wei = F.softmax(wei, dim=-1)\n",
        "\n",
        "        wei = self.dropout(wei)\n",
        "\n",
        "        out = wei @ v  # (B, T, head_size)\n",
        "        return out\n",
        "\n",
        "\n",
        "class MultiHeadAttention_RNoPE(nn.Module):\n",
        "    def __init__(self, config, apply_rope=True):\n",
        "        super().__init__()\n",
        "        # Each head is created with the same apply_rope setting.\n",
        "        self.heads = nn.ModuleList([Head_RNoPE(config, apply_rope=apply_rope) for _ in range(config.n_head)])\n",
        "\n",
        "        self.dropout = nn.Dropout(config.dropout)\n",
        "\n",
        "    def forward(self, x):\n",
        "        # Run each head in parallel and concatenate along the channel dimension\n",
        "        out = torch.cat([h(x) for h in self.heads], dim=-1)\n",
        "        out = self.dropout(out)\n",
        "        return out\n",
        "\n",
        "\n",
        "class Block_RNoPE(nn.Module):\n",
        "    def __init__(self, config, apply_rope=True):\n",
        "        super().__init__()\n",
        "        self.ln_1 = nn.LayerNorm(config.n_embd)\n",
        "        self.attn = MultiHeadAttention_RNoPE(config, apply_rope=apply_rope)\n",
        "        self.ln_2 = nn.LayerNorm(config.n_embd)\n",
        "        self.mlp = MLP(config)\n",
        "\n",
        "    def forward(self, x):\n",
        "        x = x + self.attn(self.ln_1(x))\n",
        "        x = x + self.mlp(self.ln_2(x))\n",
        "        return x\n",
        "\n",
        "\n",
        "class GPT_RNoPE(nn.Module):\n",
        "    def __init__(self, config, block_order=None):\n",
        "        super().__init__()\n",
        "\n",
        "        # Automatically generate an alternating pattern if block_order is not provided\n",
        "        if block_order is None:\n",
        "            block_order = [True if i % 2 == 0 else False for i in range(config.n_layer)]\n",
        "\n",
        "        self.transformer = nn.ModuleDict(dict(\n",
        "            wte = nn.Embedding(config.vocab_size, config.n_embd),\n",
        "            # No separate positional embedding\n",
        "            h = nn.ModuleList([\n",
        "                Block_RNoPE(config, apply_rope=block_order[i])\n",
        "                for i in range(config.n_layer)\n",
        "            ]),\n",
        "            ln_f = nn.LayerNorm(config.n_embd)\n",
        "        ))\n",
        "        self.lm_head = nn.Linear(config.n_embd, config.vocab_size, bias=False)\n",
        "\n",
        "    def forward(self, idx, targets=None):\n",
        "        B, T = idx.shape\n",
        "        tok_emb = self.transformer.wte(idx)  # (B, T, n_embd)\n",
        "        x = tok_emb\n",
        "\n",
        "        for block in self.transformer.h:\n",
        "            x = block(x)  # (B, T, n_embd)\n",
        "\n",
        "        x = self.transformer.ln_f(x)  # (B, T, n_embd)\n",
        "\n",
        "        if targets is not None:\n",
        "            logits = self.lm_head(x)  # (B, T, vocab_size)\n",
        "            loss = F.cross_entropy(logits.view(B*T, config.vocab_size), targets.view(B*T))\n",
        "        else:\n",
        "            logits = self.lm_head(x[:, [-1], :])  # (B, 1, vocab_size)\n",
        "            loss = None\n",
        "        return logits, loss\n",
        "\n",
        "    @torch.no_grad()\n",
        "    def generate(self, sequence, max_new_tokens):\n",
        "        enc = tiktoken.encoding_for_model(\"gpt2\")\n",
        "        idx = torch.tensor(enc.encode(sequence)).unsqueeze(0).to(device)  # (B, T)\n",
        "        B, T = idx.shape\n",
        "        out = torch.empty((B, 0), dtype=idx.dtype, device=device)\n",
        "        for _ in range(max_new_tokens):\n",
        "            idx = idx if idx.size(1) <= config.block_size else idx[:, -config.block_size:]\n",
        "            logits, _ = self(idx)  # (B, vocab_size)\n",
        "            probs = F.softmax(logits.squeeze(1), dim=-1)  # (B, vocab_size)\n",
        "            idx_next = torch.multinomial(probs, num_samples=1)  # (B, 1)\n",
        "            idx = torch.cat((idx, idx_next), dim=1)  # (B, T+1)\n",
        "            out = torch.cat((out, idx_next), dim=1)\n",
        "        return out"
      ],
      "metadata": {
        "id": "ubo266G35uUm"
      },
      "execution_count": null,
      "outputs": []
    },
    {
      "cell_type": "markdown",
      "source": [
        "## Pre-training"
      ],
      "metadata": {
        "id": "yWEM3dWHt6A_"
      }
    },
    {
      "cell_type": "code",
      "source": [
        "torch.manual_seed(1337)\n",
        "\n",
        "model = GPT(config).to(device)\n",
        "model_nope = GPT_NoPE(config).to(device)\n",
        "model_rope = GPT_RoPE(config).to(device)\n",
        "model_qk = GPT_QK(config).to(device)\n",
        "model_rnope = GPT_QK(config).to(device)\n",
        "\n",
        "# model = torch.compile(model)\n",
        "# model_nope = torch.compile(model_nope)\n",
        "# model_rope = torch.compile(model_rope)\n",
        "# model_qk = torch.compile(model_qk)\n",
        "# model_rnope = torch.compile(model_rnope)"
      ],
      "metadata": {
        "id": "X-SxlbfgtTyS"
      },
      "execution_count": null,
      "outputs": []
    },
    {
      "cell_type": "code",
      "source": [
        "torch.manual_seed(1337)\n",
        "\n",
        "optimizer = torch.optim.AdamW(model.parameters(), lr=1e-4)\n",
        "optimizer_nope = torch.optim.AdamW(model_nope.parameters(), lr=1e-4)\n",
        "optimizer_rope = torch.optim.AdamW(model_rope.parameters(), lr=1e-4)\n",
        "optimizer_qk = torch.optim.AdamW(model_qk.parameters(), lr=1e-4)\n",
        "optimizer_rnope = torch.optim.AdamW(model_rnope.parameters(), lr=1e-4)"
      ],
      "metadata": {
        "id": "Gz3v2n6LJSc6"
      },
      "execution_count": null,
      "outputs": []
    },
    {
      "cell_type": "code",
      "source": [
        "# Lists to store loss at each iteration for plotting\n",
        "train_losses_model = []\n",
        "val_losses_model = []\n",
        "\n",
        "train_losses_model_nope = []\n",
        "val_losses_model_nope = []\n",
        "\n",
        "train_losses_model_rope = []\n",
        "val_losses_model_rope = []\n",
        "\n",
        "train_losses_model_qk = []\n",
        "val_losses_model_qk = []\n",
        "\n",
        "train_losses_model_rnope = []\n",
        "val_losses_model_rnope = []"
      ],
      "metadata": {
        "id": "ce1ac1z9eEL8"
      },
      "execution_count": null,
      "outputs": []
    },
    {
      "cell_type": "code",
      "source": [
        "torch.manual_seed(1337)\n",
        "\n",
        "max_iter = 3000\n",
        "eval_iter = 200\n",
        "\n",
        "for i in range(max_iter + 1):\n",
        "\n",
        "    if i % eval_iter == 0:\n",
        "        # Estimate losses for all five models\n",
        "        losses_model      = estimate_loss(model)\n",
        "        losses_model_nope = estimate_loss(model_nope)\n",
        "        losses_model_rope = estimate_loss(model_rope)\n",
        "        losses_model_qk   = estimate_loss(model_qk)\n",
        "        losses_model_rnope = estimate_loss(model_rnope)\n",
        "\n",
        "        # Print estimated losses\n",
        "        print(f\"Step {i} | GPT Train Loss: {losses_model['train']:.4f} | GPT Val Loss: {losses_model['val']:.4f}\")\n",
        "        print(f\"       | GPT NoPE Train Loss: {losses_model_nope['train']:.4f} | GPT NoPE Val Loss: {losses_model_nope['val']:.4f}\")\n",
        "        print(f\"       | GPT RoPE Train Loss: {losses_model_rope['train']:.4f} | GPT RoPE Val Loss: {losses_model_rope['val']:.4f}\")\n",
        "        print(f\"       | GPT QK Train Loss: {losses_model_qk['train']:.4f} | GPT QK Val Loss: {losses_model_qk['val']:.4f}\")\n",
        "        print(f\"       | GPT RNoPE Train Loss: {losses_model_rnope['train']:.4f} | GPT RNoPE Val Loss: {losses_model_rnope['val']:.4f}\")\n",
        "\n",
        "        # Store validation losses for plotting later\n",
        "        val_losses_model.append(losses_model['val'])\n",
        "        val_losses_model_nope.append(losses_model_nope['val'])\n",
        "        val_losses_model_rope.append(losses_model_rope['val'])\n",
        "        val_losses_model_qk.append(losses_model_qk['val'])\n",
        "        val_losses_model_rnope.append(losses_model_rnope['val'])\n",
        "\n",
        "    # Get batch\n",
        "    xb, yb = get_batch('train')\n",
        "\n",
        "    # Forward pass for all five models\n",
        "    logits_1, loss_1 = model(xb, yb)\n",
        "    logits_2, loss_2 = model_nope(xb, yb)\n",
        "    logits_3, loss_3 = model_rope(xb, yb)\n",
        "    logits_4, loss_4 = model_qk(xb, yb)\n",
        "    logits_5, loss_5 = model_rnope(xb, yb)\n",
        "\n",
        "    # Store training losses for plotting later\n",
        "    train_losses_model.append(loss_1.item())\n",
        "    train_losses_model_nope.append(loss_2.item())\n",
        "    train_losses_model_rope.append(loss_3.item())\n",
        "    train_losses_model_qk.append(loss_4.item())\n",
        "    train_losses_model_rnope.append(loss_5.item())\n",
        "\n",
        "    # Backward pass and optimization for each model\n",
        "    optimizer.zero_grad(set_to_none=True)\n",
        "    loss_1.backward()\n",
        "    optimizer.step()\n",
        "\n",
        "    optimizer_nope.zero_grad(set_to_none=True)\n",
        "    loss_2.backward()\n",
        "    optimizer_nope.step()\n",
        "\n",
        "    optimizer_rope.zero_grad(set_to_none=True)\n",
        "    loss_3.backward()\n",
        "    optimizer_rope.step()\n",
        "\n",
        "    optimizer_qk.zero_grad(set_to_none=True)\n",
        "    loss_4.backward()\n",
        "    optimizer_qk.step()\n",
        "\n",
        "    optimizer_rnope.zero_grad(set_to_none=True)\n",
        "    loss_5.backward()\n",
        "    optimizer_rnope.step()"
      ],
      "metadata": {
        "colab": {
          "base_uri": "https://localhost:8080/"
        },
        "collapsed": true,
        "id": "eaAofmxYIhVM",
        "outputId": "8670742d-5588-4fef-ef69-f6936c2450f3"
      },
      "execution_count": null,
      "outputs": [
        {
          "output_type": "stream",
          "name": "stdout",
          "text": [
            "Step 0 | GPT Train Loss: 11.0131 | GPT Val Loss: 11.0116\n",
            "       | GPT NoPE Train Loss: 10.9779 | GPT NoPE Val Loss: 10.9923\n",
            "       | GPT RoPE Train Loss: 10.9468 | GPT RoPE Val Loss: 10.9326\n",
            "       | GPT QK Train Loss: 10.9663 | GPT QK Val Loss: 10.9544\n",
            "       | GPT RNoPE Train Loss: 10.9918 | GPT RNoPE Val Loss: 11.0022\n",
            "Step 200 | GPT Train Loss: 6.9897 | GPT Val Loss: 7.0068\n",
            "       | GPT NoPE Train Loss: 6.9289 | GPT NoPE Val Loss: 6.9729\n",
            "       | GPT RoPE Train Loss: 6.9216 | GPT RoPE Val Loss: 6.9349\n",
            "       | GPT QK Train Loss: 6.9685 | GPT QK Val Loss: 6.9985\n",
            "       | GPT RNoPE Train Loss: 6.9125 | GPT RNoPE Val Loss: 6.9656\n",
            "Step 400 | GPT Train Loss: 6.1910 | GPT Val Loss: 6.2738\n",
            "       | GPT NoPE Train Loss: 6.1013 | GPT NoPE Val Loss: 6.2025\n",
            "       | GPT RoPE Train Loss: 6.0922 | GPT RoPE Val Loss: 6.1570\n",
            "       | GPT QK Train Loss: 6.0730 | GPT QK Val Loss: 6.1561\n",
            "       | GPT RNoPE Train Loss: 6.0894 | GPT RNoPE Val Loss: 6.1675\n",
            "Step 600 | GPT Train Loss: 5.9928 | GPT Val Loss: 6.0937\n",
            "       | GPT NoPE Train Loss: 5.7947 | GPT NoPE Val Loss: 5.9465\n",
            "       | GPT RoPE Train Loss: 5.7211 | GPT RoPE Val Loss: 5.8707\n",
            "       | GPT QK Train Loss: 5.7286 | GPT QK Val Loss: 5.8952\n",
            "       | GPT RNoPE Train Loss: 5.7403 | GPT RNoPE Val Loss: 5.8959\n",
            "Step 800 | GPT Train Loss: 5.7943 | GPT Val Loss: 5.9547\n",
            "       | GPT NoPE Train Loss: 5.5074 | GPT NoPE Val Loss: 5.7779\n",
            "       | GPT RoPE Train Loss: 5.4279 | GPT RoPE Val Loss: 5.6636\n",
            "       | GPT QK Train Loss: 5.4564 | GPT QK Val Loss: 5.6743\n",
            "       | GPT RNoPE Train Loss: 5.4472 | GPT RNoPE Val Loss: 5.6927\n",
            "Step 1000 | GPT Train Loss: 5.5920 | GPT Val Loss: 5.8287\n",
            "       | GPT NoPE Train Loss: 5.3077 | GPT NoPE Val Loss: 5.6191\n",
            "       | GPT RoPE Train Loss: 5.2076 | GPT RoPE Val Loss: 5.4851\n",
            "       | GPT QK Train Loss: 5.2153 | GPT QK Val Loss: 5.5117\n",
            "       | GPT RNoPE Train Loss: 5.2438 | GPT RNoPE Val Loss: 5.5297\n",
            "Step 1200 | GPT Train Loss: 5.4328 | GPT Val Loss: 5.7091\n",
            "       | GPT NoPE Train Loss: 5.1438 | GPT NoPE Val Loss: 5.5094\n",
            "       | GPT RoPE Train Loss: 5.0123 | GPT RoPE Val Loss: 5.3501\n",
            "       | GPT QK Train Loss: 5.0345 | GPT QK Val Loss: 5.3781\n",
            "       | GPT RNoPE Train Loss: 5.0606 | GPT RNoPE Val Loss: 5.3902\n",
            "Step 1400 | GPT Train Loss: 5.2918 | GPT Val Loss: 5.5950\n",
            "       | GPT NoPE Train Loss: 5.0221 | GPT NoPE Val Loss: 5.3864\n",
            "       | GPT RoPE Train Loss: 4.8565 | GPT RoPE Val Loss: 5.2369\n",
            "       | GPT QK Train Loss: 4.9035 | GPT QK Val Loss: 5.2449\n",
            "       | GPT RNoPE Train Loss: 4.9156 | GPT RNoPE Val Loss: 5.2761\n",
            "Step 1600 | GPT Train Loss: 5.1742 | GPT Val Loss: 5.5164\n",
            "       | GPT NoPE Train Loss: 4.9025 | GPT NoPE Val Loss: 5.2988\n",
            "       | GPT RoPE Train Loss: 4.7539 | GPT RoPE Val Loss: 5.1405\n",
            "       | GPT QK Train Loss: 4.7529 | GPT QK Val Loss: 5.1583\n",
            "       | GPT RNoPE Train Loss: 4.7676 | GPT RNoPE Val Loss: 5.1743\n",
            "Step 1800 | GPT Train Loss: 5.0611 | GPT Val Loss: 5.4204\n",
            "       | GPT NoPE Train Loss: 4.7907 | GPT NoPE Val Loss: 5.2031\n",
            "       | GPT RoPE Train Loss: 4.6679 | GPT RoPE Val Loss: 5.0576\n",
            "       | GPT QK Train Loss: 4.6644 | GPT QK Val Loss: 5.0478\n",
            "       | GPT RNoPE Train Loss: 4.6953 | GPT RNoPE Val Loss: 5.0881\n",
            "Step 2000 | GPT Train Loss: 4.9559 | GPT Val Loss: 5.3572\n",
            "       | GPT NoPE Train Loss: 4.7545 | GPT NoPE Val Loss: 5.1791\n",
            "       | GPT RoPE Train Loss: 4.5641 | GPT RoPE Val Loss: 4.9958\n",
            "       | GPT QK Train Loss: 4.5727 | GPT QK Val Loss: 5.0049\n",
            "       | GPT RNoPE Train Loss: 4.5755 | GPT RNoPE Val Loss: 5.0157\n",
            "Step 2200 | GPT Train Loss: 4.8974 | GPT Val Loss: 5.2917\n",
            "       | GPT NoPE Train Loss: 4.6767 | GPT NoPE Val Loss: 5.0951\n",
            "       | GPT RoPE Train Loss: 4.4949 | GPT RoPE Val Loss: 4.9413\n",
            "       | GPT QK Train Loss: 4.5173 | GPT QK Val Loss: 4.9475\n",
            "       | GPT RNoPE Train Loss: 4.5291 | GPT RNoPE Val Loss: 4.9240\n",
            "Step 2400 | GPT Train Loss: 4.8448 | GPT Val Loss: 5.2215\n",
            "       | GPT NoPE Train Loss: 4.6124 | GPT NoPE Val Loss: 5.0764\n",
            "       | GPT RoPE Train Loss: 4.4212 | GPT RoPE Val Loss: 4.8794\n",
            "       | GPT QK Train Loss: 4.4584 | GPT QK Val Loss: 4.9110\n",
            "       | GPT RNoPE Train Loss: 4.4217 | GPT RNoPE Val Loss: 4.9030\n",
            "Step 2600 | GPT Train Loss: 4.7806 | GPT Val Loss: 5.2007\n",
            "       | GPT NoPE Train Loss: 4.5431 | GPT NoPE Val Loss: 5.0529\n",
            "       | GPT RoPE Train Loss: 4.3842 | GPT RoPE Val Loss: 4.8849\n",
            "       | GPT QK Train Loss: 4.4026 | GPT QK Val Loss: 4.8754\n",
            "       | GPT RNoPE Train Loss: 4.3729 | GPT RNoPE Val Loss: 4.8831\n",
            "Step 2800 | GPT Train Loss: 4.7278 | GPT Val Loss: 5.1816\n",
            "       | GPT NoPE Train Loss: 4.4914 | GPT NoPE Val Loss: 5.0019\n",
            "       | GPT RoPE Train Loss: 4.3315 | GPT RoPE Val Loss: 4.8226\n",
            "       | GPT QK Train Loss: 4.3308 | GPT QK Val Loss: 4.8307\n",
            "       | GPT RNoPE Train Loss: 4.3550 | GPT RNoPE Val Loss: 4.8425\n",
            "Step 3000 | GPT Train Loss: 4.6744 | GPT Val Loss: 5.1413\n",
            "       | GPT NoPE Train Loss: 4.4361 | GPT NoPE Val Loss: 4.9978\n",
            "       | GPT RoPE Train Loss: 4.2553 | GPT RoPE Val Loss: 4.7863\n",
            "       | GPT QK Train Loss: 4.2730 | GPT QK Val Loss: 4.8310\n",
            "       | GPT RNoPE Train Loss: 4.2807 | GPT RNoPE Val Loss: 4.8308\n"
          ]
        }
      ]
    },
    {
      "cell_type": "markdown",
      "source": [
        "## Save Losses"
      ],
      "metadata": {
        "id": "riT0zsyOr_qy"
      }
    },
    {
      "cell_type": "code",
      "source": [
        "import pickle\n",
        "import os"
      ],
      "metadata": {
        "id": "3J8lTQfdsehW"
      },
      "execution_count": null,
      "outputs": []
    },
    {
      "cell_type": "code",
      "source": [
        "from google.colab import drive\n",
        "drive.mount('/content/drive')"
      ],
      "metadata": {
        "colab": {
          "base_uri": "https://localhost:8080/"
        },
        "id": "C3VuztfRqIja",
        "outputId": "7391f36f-7ddf-4cc0-f3df-4d5befa98f2d"
      },
      "execution_count": null,
      "outputs": [
        {
          "output_type": "stream",
          "name": "stdout",
          "text": [
            "Mounted at /content/drive\n"
          ]
        }
      ]
    },
    {
      "cell_type": "code",
      "source": [
        "save_path = '/content/drive/My Drive/projects/gpt/losses_dict.pkl'\n",
        "\n",
        "# Create a dictionary with all your loss lists\n",
        "losses_dict = {\n",
        "    'train_losses_model': train_losses_model,\n",
        "    'train_losses_model_nope': train_losses_model_nope,\n",
        "    'train_losses_model_rope': train_losses_model_rope,\n",
        "    'train_losses_model_qk': train_losses_model_qk,\n",
        "    'train_losses_model_rnope': train_losses_model_rnope,\n",
        "    'val_losses_model': val_losses_model,\n",
        "    'val_losses_model_nope': val_losses_model_nope,\n",
        "    'val_losses_model_rope': val_losses_model_rope,\n",
        "    'val_losses_model_qk': val_losses_model_qk,\n",
        "    'val_losses_model_rnope': val_losses_model_rnope\n",
        "}\n",
        "\n",
        "# Save the dictionary to a file\n",
        "with open(save_path, 'wb') as f:\n",
        "    pickle.dump(losses_dict, f)\n",
        "\n",
        "# Confirm the file is saved\n",
        "print(\"Saved losses to:\", save_path)\n",
        "print(\"Files in target folder:\", os.listdir('/content/drive/My Drive/projects/gpt/'))"
      ],
      "metadata": {
        "colab": {
          "base_uri": "https://localhost:8080/"
        },
        "id": "OeTzmftpr7Gl",
        "outputId": "327f292f-320f-4a47-ccc9-4ae99e6a364f"
      },
      "execution_count": null,
      "outputs": [
        {
          "output_type": "stream",
          "name": "stdout",
          "text": [
            "Saved losses to: /content/drive/My Drive/projects/gpt/losses_dict.pkl\n",
            "Files in target folder: ['losses_dict.pkl']\n"
          ]
        }
      ]
    },
    {
      "cell_type": "code",
      "source": [
        "from tabulate import tabulate\n",
        "\n",
        "final_losses = [\n",
        "    [\"Model\", \"Train Loss\", \"Validation Loss\"],\n",
        "    [\"GPT\", f\"{train_losses_model[-1]:.4f}\", f\"{val_losses_model[-1]:.4f}\"],\n",
        "    [\"GPT NoPE\", f\"{train_losses_model_nope[-1]:.4f}\", f\"{val_losses_model_nope[-1]:.4f}\"],\n",
        "    [\"GPT RoPE\", f\"{train_losses_model_rope[-1]:.4f}\", f\"{val_losses_model_rope[-1]:.4f}\"],\n",
        "    [\"GPT QK Norm\", f\"{train_losses_model_qk[-1]:.4f}\", f\"{val_losses_model_qk[-1]:.4f}\"],\n",
        "    [\"GPT RNoPE\", f\"{train_losses_model_rnope[-1]:.4f}\", f\"{val_losses_model_rnope[-1]:.4f}\"]\n",
        "]\n",
        "\n",
        "print(tabulate(final_losses, headers=\"firstrow\", tablefmt=\"fancy_grid\"))"
      ],
      "metadata": {
        "colab": {
          "base_uri": "https://localhost:8080/"
        },
        "id": "hgrVuag4cjzo",
        "outputId": "9e3deed6-fe30-45d7-dd21-d3f6b91626e9"
      },
      "execution_count": null,
      "outputs": [
        {
          "output_type": "stream",
          "name": "stdout",
          "text": [
            "╒═════════════╤══════════════╤═══════════════════╕\n",
            "│ Model       │   Train Loss │   Validation Loss │\n",
            "╞═════════════╪══════════════╪═══════════════════╡\n",
            "│ GPT         │       4.5634 │            5.1413 │\n",
            "├─────────────┼──────────────┼───────────────────┤\n",
            "│ GPT NoPE    │       4.364  │            4.9978 │\n",
            "├─────────────┼──────────────┼───────────────────┤\n",
            "│ GPT RoPE    │       4.1833 │            4.7863 │\n",
            "├─────────────┼──────────────┼───────────────────┤\n",
            "│ GPT QK Norm │       4.1835 │            4.831  │\n",
            "├─────────────┼──────────────┼───────────────────┤\n",
            "│ GPT RNoPE   │       4.1811 │            4.8308 │\n",
            "╘═════════════╧══════════════╧═══════════════════╛\n"
          ]
        }
      ]
    },
    {
      "cell_type": "markdown",
      "source": [
        "## Plot Training"
      ],
      "metadata": {
        "id": "WaJ2TkbgtG1g"
      }
    },
    {
      "cell_type": "code",
      "source": [
        "import matplotlib.pyplot as plt\n",
        "\n",
        "fig, (ax_train, ax_val) = plt.subplots(1, 2, figsize=(12, 5))\n",
        "\n",
        "# --- Training Loss Subplot ---\n",
        "ax_train.plot(train_losses_model,      label=\"GPT (Train Loss)\")\n",
        "ax_train.plot(train_losses_model_nope, label=\"GPT NoPE (Train Loss)\")\n",
        "ax_train.plot(train_losses_model_rope, label=\"GPT RoPE (Train Loss)\")\n",
        "ax_train.plot(train_losses_model_qk,   label=\"GPT QK Norm (Train Loss)\")\n",
        "ax_train.plot(train_losses_model_rnope, label=\"GPT RNoPE (Train Loss)\")\n",
        "\n",
        "ax_train.set_xlabel(\"Iteration\")\n",
        "ax_train.set_ylabel(\"Loss\")\n",
        "ax_train.set_title(\"Training Loss\")\n",
        "ax_train.legend()\n",
        "\n",
        "# --- Validation Loss Subplot ---\n",
        "eval_steps = list(range(0, max_iter + 1, eval_iter))\n",
        "ax_val.plot(eval_steps, val_losses_model,       marker='o', linestyle='dashed', label=\"GPT (Val Loss)\")\n",
        "ax_val.plot(eval_steps, val_losses_model_nope,  marker='o', linestyle='dashed', label=\"GPT NoPE (Val Loss)\")\n",
        "ax_val.plot(eval_steps, val_losses_model_rope,  marker='o', linestyle='dashed', label=\"GPT RoPE (Val Loss)\")\n",
        "ax_val.plot(eval_steps, val_losses_model_qk,    marker='o', linestyle='dashed', label=\"GPT QK Norm (Val Loss)\")\n",
        "ax_val.plot(eval_steps, val_losses_model_rnope, marker='o', linestyle='dashed', label=\"GPT RNoPE (Val Loss)\")\n",
        "\n",
        "ax_val.set_xlabel(\"Iteration\")\n",
        "ax_val.set_ylabel(\"Loss\")\n",
        "ax_val.set_title(\"Validation Loss\")\n",
        "ax_val.legend()\n",
        "\n",
        "plt.tight_layout()\n",
        "plt.show()"
      ],
      "metadata": {
        "colab": {
          "base_uri": "https://localhost:8080/",
          "height": 507
        },
        "id": "2Srrxkb2rLKq",
        "outputId": "b92cdd58-1228-4e9b-a053-287ba15a1eb7"
      },
      "execution_count": null,
      "outputs": [
        {
          "output_type": "display_data",
          "data": {
            "text/plain": [
              "<Figure size 1200x500 with 2 Axes>"
            ],
            "image/png": "[encoded data removed]"
          },
          "metadata": {}
        }
      ]
    },
    {
      "cell_type": "markdown",
      "source": [
        "## Inference"
      ],
      "metadata": {
        "id": "5DZcXvrDbZCv"
      }
    },
    {
      "cell_type": "code",
      "source": [
        "torch.manual_seed(1337)\n",
        "\n",
        "ans = model_rnope.generate(\"First Citizen:\", max_new_tokens=200)\n",
        "ans = enc.decode(ans.squeeze().tolist())\n",
        "\n",
        "print(ans)"
      ],
      "metadata": {
        "colab": {
          "base_uri": "https://localhost:8080/"
        },
        "collapsed": true,
        "id": "mjcWRX4oFXwa",
        "outputId": "e7fdb626-4aa7-4652-e17f-45692af86af9"
      },
      "execution_count": null,
      "outputs": [
        {
          "output_type": "stream",
          "name": "stdout",
          "text": [
            "\n",
            "for lay any speechain? one that same wcor TJ executed be laughter\n",
            "HisSymmen's hated trades,\n",
            "Within not det half of herorvious y own men\n",
            "Or preserveing being poor kindness in You, and in these he,\n",
            "Edward tou perceiveack more widow of os\n",
            "Having refer every harm widow shows day and oManager,\n",
            "My voice is pale one word are too,\n",
            "Unless ourpirkeeping torment act.\n",
            "Wra restraint he is thine breast orear\n",
            "Y AN living my unSo with hence:\n",
            "And bear this a loose raven of Herepapers;\n",
            "But me callost thou come that More and lords,\n",
            "And trouble ever rash a leave in bread.\n",
            "\n",
            " night growULIUS:\n",
            "And when I intend.\n",
            "Ay, currentter I murder less.\n",
            "\n",
            "ROMEO:\n",
            "A C faire wall, keeps it-- borough. Look the Vols!\n",
            "\n",
            "KING HENRY BOLINGHAM:\n",
            "Right\n"
          ]
        }
      ]
    },
    {
      "cell_type": "markdown",
      "source": [
        "# Rough work:"
      ],
      "metadata": {
        "id": "7hWmBPKrwfbi"
      }
    },
    {
      "cell_type": "code",
      "source": [
        "torch.manual_seed(1337)\n",
        "\n",
        "B, T, C = 4, 8, 2\n",
        "x = torch.randn(B,T,C)\n",
        "\n",
        "wei = torch.tril(torch.ones(T, T))\n",
        "wei = wei / wei.sum(1, keepdim=True)\n",
        "\n",
        "xbow2 = wei @ x"
      ],
      "metadata": {
        "id": "dkGxhaLTgMYZ"
      },
      "execution_count": null,
      "outputs": []
    },
    {
      "cell_type": "code",
      "source": [
        "xbow = torch.full((B, T, C), torch.nan)\n",
        "\n",
        "for b in range(B):\n",
        "    for t in range(T):\n",
        "        xprev = x[b, :t+1] # (t,c)\n",
        "        xbow[b, t] = torch.mean(xprev, 0)\n",
        "\n",
        "xbow.shape"
      ],
      "metadata": {
        "colab": {
          "base_uri": "https://localhost:8080/"
        },
        "id": "ZpG4My6MJ0kl",
        "outputId": "046ee396-5c57-43f9-fa0e-d5e08c99dc6d"
      },
      "execution_count": null,
      "outputs": [
        {
          "output_type": "execute_result",
          "data": {
            "text/plain": [
              "torch.Size([4, 8, 2])"
            ]
          },
          "metadata": {},
          "execution_count": 23
        }
      ]
    },
    {
      "cell_type": "code",
      "source": [
        "# 3rd version\n",
        "tril = torch.tril(torch.ones(T,T))\n",
        "wei = torch.zeros(T,T)\n",
        "wei = wei.masked_fill(tril==0, float('-inf'))\n",
        "wei = F.softmax(wei, dim=-1)\n",
        "wei"
      ],
      "metadata": {
        "colab": {
          "base_uri": "https://localhost:8080/"
        },
        "id": "XbcHTc5oRAfp",
        "outputId": "275962c3-0427-477e-8e62-f218512065de"
      },
      "execution_count": null,
      "outputs": [
        {
          "output_type": "execute_result",
          "data": {
            "text/plain": [
              "tensor([[1.0000, 0.0000, 0.0000, 0.0000, 0.0000, 0.0000, 0.0000, 0.0000],\n",
              "        [0.5000, 0.5000, 0.0000, 0.0000, 0.0000, 0.0000, 0.0000, 0.0000],\n",
              "        [0.3333, 0.3333, 0.3333, 0.0000, 0.0000, 0.0000, 0.0000, 0.0000],\n",
              "        [0.2500, 0.2500, 0.2500, 0.2500, 0.0000, 0.0000, 0.0000, 0.0000],\n",
              "        [0.2000, 0.2000, 0.2000, 0.2000, 0.2000, 0.0000, 0.0000, 0.0000],\n",
              "        [0.1667, 0.1667, 0.1667, 0.1667, 0.1667, 0.1667, 0.0000, 0.0000],\n",
              "        [0.1429, 0.1429, 0.1429, 0.1429, 0.1429, 0.1429, 0.1429, 0.0000],\n",
              "        [0.1250, 0.1250, 0.1250, 0.1250, 0.1250, 0.1250, 0.1250, 0.1250]])"
            ]
          },
          "metadata": {},
          "execution_count": 69
        }
      ]
    },
    {
      "cell_type": "code",
      "source": [
        "head_size=16\n",
        "\n",
        "query = nn.Linear(C, head_size, bias=False)\n",
        "key = nn.Linear(C, head_size, bias=False)\n",
        "value = nn.Linear(C, head_size, bias=False)\n",
        "\n",
        "q = query(x) # (B, T, head_size)\n",
        "k = key(x)   # (B, T, head_size)\n",
        "v = value(x)   # (B, T, head_size)\n",
        "\n",
        "wei = q @ k.transpose(-2, -1)\n",
        "\n",
        "tril = torch.tril(torch.ones(T,T))\n",
        "wei = wei.masked_fill(tril==0, float('-inf'))\n",
        "wei = F.softmax(wei, dim=-1)\n",
        "\n",
        "out = wei @ v\n",
        "\n",
        "out[0]"
      ],
      "metadata": {
        "colab": {
          "base_uri": "https://localhost:8080/"
        },
        "id": "Xdfw7In8W76J",
        "outputId": "2620a9b9-ed49-41c8-ac07-1aa89abe41b5"
      },
      "execution_count": null,
      "outputs": [
        {
          "output_type": "execute_result",
          "data": {
            "text/plain": [
              "tensor([[ 0.0492,  0.0428, -0.0476,  0.0550, -0.1262, -0.0838, -0.1170,  0.0392,\n",
              "          0.0727,  0.0870, -0.0828, -0.0079, -0.0775,  0.0866, -0.0804, -0.0779],\n",
              "        [-0.2421,  0.0915,  0.3643, -0.3591, -0.2111,  0.0130, -0.1135, -0.3222,\n",
              "         -0.3305, -0.1326,  0.2511,  0.1714, -0.0643,  0.2988,  0.3309,  0.4067],\n",
              "        [ 0.0251,  0.0822,  0.0017,  0.0104, -0.2306, -0.1225, -0.1974, -0.0058,\n",
              "          0.0425,  0.1033, -0.0734,  0.0224, -0.1285,  0.1890, -0.0539, -0.0351],\n",
              "        [ 0.1752,  0.0959, -0.1939,  0.2123, -0.2938, -0.2236, -0.2878,  0.1637,\n",
              "          0.2537,  0.2544, -0.2655, -0.0529, -0.1925,  0.1728, -0.2742, -0.2818],\n",
              "        [ 0.1606,  0.0437, -0.1968,  0.2077, -0.1476, -0.1466, -0.1630,  0.1691,\n",
              "          0.2287,  0.1900, -0.2206, -0.0679, -0.1113,  0.0523, -0.2419, -0.2618],\n",
              "        [-0.2742,  0.0664,  0.3966, -0.3959, -0.1365,  0.0640, -0.0435, -0.3490,\n",
              "         -0.3777, -0.1866,  0.3036,  0.1778, -0.0179,  0.2490,  0.3828,  0.4577],\n",
              "        [ 0.1056,  0.0081, -0.1383,  0.1426, -0.0401, -0.0691, -0.0600,  0.1200,\n",
              "          0.1485,  0.1048, -0.1344, -0.0537, -0.0427, -0.0152, -0.1547, -0.1737],\n",
              "        [-0.2998,  0.0666,  0.4311, -0.4311, -0.1326,  0.0779, -0.0339, -0.3791,\n",
              "         -0.4135, -0.2099,  0.3351,  0.1918, -0.0107,  0.2578,  0.4198,  0.5001]],\n",
              "       grad_fn=<SelectBackward0>)"
            ]
          },
          "metadata": {},
          "execution_count": 78
        }
      ]
    },
    {
      "cell_type": "code",
      "source": [],
      "metadata": {
        "id": "72aM8kjOgWED"
      },
      "execution_count": null,
      "outputs": []
    }
  ]
}